{
 "cells": [
  {
   "cell_type": "code",
   "execution_count": 1,
   "metadata": {},
   "outputs": [],
   "source": [
    "import pandas as pd\n",
    "from sklearn.model_selection import train_test_split\n",
    "from sklearn.model_selection import KFold\n",
    "import matplotlib.pyplot as plt\n",
    "from sklearn.linear_model import LogisticRegression\n",
    "from  sklearn.metrics import accuracy_score\n",
    "from sklearn.metrics import confusion_matrix\n",
    "import numpy as np\n",
    "import sys\n",
    "import pickle\n",
    "import seaborn as sns"
   ]
  },
  {
   "cell_type": "code",
   "execution_count": 2,
   "metadata": {},
   "outputs": [],
   "source": [
    "np.set_printoptions(threshold=sys.maxsize, suppress=True)\n",
    "\n",
    "class validation_set:\n",
    "\tdef __init__(self, X_train, y_train, X_test, y_test):\n",
    "\t\tself.X_train = X_train\n",
    "\t\tself.y_train = y_train\n",
    "\t\tself.X_test = X_test\n",
    "\t\tself.y_test = y_test\n",
    "\n",
    "class test_set:\n",
    "\tdef __init__(self, X_test, y_test):\n",
    "\t\tself.X_test = X_test\n",
    "\t\tself.y_test = y_test\n",
    "\n",
    "class data_set:\n",
    "\tdef __init__(self, validation_set, test_set):\n",
    "\t\tself.validation_set = validation_set\n",
    "\t\tself.test_set = test_set\n",
    "\n",
    "def generate_train_test(file_name):\n",
    "\tpd.options.display.max_colwidth = 200\n",
    "\n",
    "\t#Lee el corpus original del archivo de entrada y lo pasa a una DataFrame\n",
    "\tdf = pd.read_csv(\"breast-cancer.csv\", sep=',', engine='python')\n",
    "\tX = df.drop(['diagnosis', 'id'],axis=1).values\n",
    "\ty = df['diagnosis'].values\n",
    "\t\n",
    "\t#Separa el corpus cargado en el DataFrame en el 90% para entrenamiento y el 10% para pruebas\n",
    "\tX_train, X_test, y_train, y_test = \\\n",
    "\ttrain_test_split(X, y, test_size=0.2, shuffle = False)\n",
    "\t\n",
    "\t#~ #Crea pliegues para la validación cruzada\n",
    "\tvalidation_sets = []\n",
    "\tkf = KFold(n_splits=3, shuffle=True)\n",
    "\tfor train_index, test_index in kf.split(X_train):\n",
    "\t\t#~ print(\"TRAIN:\", train_index, \"\\n\",  \"TEST:\", test_index)\n",
    "\t\tX_train_, X_test_ = X_train[train_index], X_train[test_index]\n",
    "\t\ty_train_, y_test_ = y_train[train_index], y_train[test_index]\n",
    "\t\t#~ #Agrega el pliegue creado a la lista\n",
    "\t\tvalidation_sets.append(validation_set(X_train_, y_train_, X_test_, y_test_))\n",
    "\t\n",
    "\t#~ #Almacena el conjunto de prueba\n",
    "\tmy_test_set = test_set(X_test, y_test)\n",
    "\t\n",
    "\t#~ #Guarda el dataset con los pliegues del conjunto de validación y el conjunto de pruebas\n",
    "\tmy_data_set1 = data_set(validation_sets, my_test_set)\n",
    "\t\n",
    "\treturn (my_data_set1)\n",
    "\n",
    "\t\n",
    "if __name__=='__main__':\n",
    "\tmy_data_set1 = generate_train_test('breast-cancer.csv')\n",
    "\t\n",
    "\t\n",
    "\t#Guarda el dataset en formato csv\n",
    "\tnp.savetxt(\"../P6A/CSV/data_test.csv\", my_data_set1.test_set.X_test, delimiter=\",\", fmt=\"%s\",\n",
    "           header=\"radius_mean,texture_mean,perimeter_mean,area_mean,smoothness_mean,compactness_mean,concavity_mean,concave points_mean,symmetry_mean,fractal_dimension_mean,radius_se,texture_se,perimeter_se,area_se,smoothness_se,compactness_se,concavity_se,concave points_se,symmetry_se,fractal_dimension_se,radius_worst,texture_worst,perimeter_worst,area_worst,smoothness_worst,compactness_worst,concavity_worst,concave points_worst,symmetry_worst,fractal_dimension_worst\")\n",
    "\t\n",
    "\tnp.savetxt(\"../P6A/CSV/target_test.csv\", my_data_set1.test_set.y_test, delimiter=\",\", fmt=\"%s\",\n",
    "           header=\"target\", comments=\"\")\n",
    "    \n",
    "\ti = 1\n",
    "\tfor val_set in my_data_set1.validation_set:\n",
    "\t\tnp.savetxt(\"../P6A/CSV/data_validation_train\" + str(i) + \".csv\", val_set.X_train, delimiter=\",\", fmt=\"%s\",\n",
    "           header=\"radius_mean,texture_mean,perimeter_mean,area_mean,smoothness_mean,compactness_mean,concavity_mean,concave points_mean,symmetry_mean,fractal_dimension_mean,radius_se,texture_se,perimeter_se,area_se,smoothness_se,compactness_se,concavity_se,concave points_se,symmetry_se,fractal_dimension_se,radius_worst,texture_worst,perimeter_worst,area_worst,smoothness_worst,compactness_worst,concavity_worst,concave points_worst,symmetry_worst,fractal_dimension_worst\", comments=\"\")\n",
    "\t\tnp.savetxt(\"../P6A/CSV/data_validation_test\" + str(i) + \".csv\", val_set.X_test, delimiter=\",\", fmt=\"%s\",\n",
    "           header=\"radius_mean,texture_mean,perimeter_mean,area_mean,smoothness_mean,compactness_mean,concavity_mean,concave points_mean,symmetry_mean,fractal_dimension_mean,radius_se,texture_se,perimeter_se,area_se,smoothness_se,compactness_se,concavity_se,concave points_se,symmetry_se,fractal_dimension_se,radius_worst,texture_worst,perimeter_worst,area_worst,smoothness_worst,compactness_worst,concavity_worst,concave points_worst,symmetry_worst,fractal_dimension_worst\", comments=\"\")\n",
    "\t\tnp.savetxt(\"../P6A/CSV/target_validation_train\" + str(i) + \".csv\", val_set.y_train, delimiter=\",\", fmt=\"%s\",\n",
    "           header=\"target\", comments=\"\")\n",
    "\t\tnp.savetxt(\"../P6A/CSV/target_validation_test\" + str(i) + \".csv\", val_set.y_test, delimiter=\",\", fmt=\"%s\",\n",
    "           header=\"target\", comments=\"\")\n",
    "\t\ti = i + 1"
   ]
  },
  {
   "cell_type": "code",
   "execution_count": 6,
   "metadata": {},
   "outputs": [
    {
     "data": {
      "text/plain": [
       "array(['M', 'M', 'M', 'M', 'M', 'M', 'M', 'M', 'M', 'M', 'M', 'B', 'M',\n",
       "       'M', 'M', 'M', 'M', 'M', 'M', 'M', 'M', 'M', 'M', 'M', 'M', 'M',\n",
       "       'M', 'M', 'M', 'B', 'B', 'B', 'B', 'B', 'M', 'M', 'B', 'M', 'B',\n",
       "       'B', 'B', 'M', 'B', 'B', 'B', 'M', 'B', 'B', 'B', 'M', 'M', 'B',\n",
       "       'B', 'B', 'M', 'B', 'M', 'B', 'M', 'B', 'B', 'B', 'M', 'B', 'B',\n",
       "       'B', 'B', 'B', 'M', 'B', 'M', 'M', 'B', 'B', 'M', 'M', 'B', 'M',\n",
       "       'M', 'M', 'B', 'B', 'M', 'B', 'B', 'B', 'M', 'B', 'B', 'B', 'B',\n",
       "       'B', 'B', 'B', 'B', 'B', 'M', 'M', 'B', 'M', 'M', 'B', 'B', 'M',\n",
       "       'M', 'B', 'B', 'M', 'M', 'B', 'B', 'B', 'B', 'M', 'M', 'M', 'M',\n",
       "       'M', 'B', 'M', 'M', 'B', 'M', 'B', 'M', 'B', 'B', 'M', 'M', 'M',\n",
       "       'M', 'M', 'M', 'B', 'B', 'M', 'B', 'B', 'B', 'B', 'M', 'M', 'B',\n",
       "       'M', 'B', 'M', 'B', 'B', 'B', 'B', 'M', 'B', 'B', 'B', 'M', 'M',\n",
       "       'M', 'M', 'M', 'M', 'M', 'M', 'M', 'M', 'M', 'B', 'B', 'B', 'B',\n",
       "       'M', 'M', 'B', 'M', 'B', 'M', 'B', 'B', 'B', 'B', 'B', 'B', 'B',\n",
       "       'B', 'B', 'B', 'M', 'B', 'M', 'B', 'B', 'B', 'B', 'B', 'B', 'B',\n",
       "       'B', 'B', 'B', 'B', 'B', 'M', 'B', 'M', 'B', 'B', 'B', 'M', 'M',\n",
       "       'B', 'B', 'B', 'B', 'M', 'B', 'M', 'B', 'B', 'B', 'M', 'B', 'B',\n",
       "       'B', 'B', 'M', 'M', 'M', 'B', 'B', 'B', 'B', 'B', 'B', 'B', 'B',\n",
       "       'B', 'M', 'B', 'M', 'M', 'M', 'M', 'B', 'B', 'B', 'B', 'B', 'B',\n",
       "       'B', 'B', 'B', 'B', 'M', 'M', 'B', 'B', 'B', 'B', 'B', 'M', 'B',\n",
       "       'B', 'B', 'B', 'M', 'B', 'B', 'B', 'B', 'M', 'B', 'M', 'B', 'B',\n",
       "       'B', 'B', 'B', 'B', 'B', 'B', 'B', 'B', 'B', 'B', 'M', 'M', 'B',\n",
       "       'M', 'B', 'B', 'B', 'B', 'M', 'B', 'B', 'B', 'M', 'B', 'B', 'M',\n",
       "       'B', 'M', 'B', 'B'], dtype=object)"
      ]
     },
     "execution_count": 6,
     "metadata": {},
     "output_type": "execute_result"
    }
   ],
   "source": [
    "# Logistic regression\n"
   ]
  },
  {
   "cell_type": "code",
   "execution_count": null,
   "metadata": {},
   "outputs": [],
   "source": []
  }
 ],
 "metadata": {
  "interpreter": {
   "hash": "9ebb0fe9e30e3b2f120fa6da3a6b72279020b4a411c1970fc2555bf2b101580a"
  },
  "kernelspec": {
   "display_name": "Python 3.10.4 64-bit (windows store)",
   "language": "python",
   "name": "python3"
  },
  "language_info": {
   "codemirror_mode": {
    "name": "ipython",
    "version": 3
   },
   "file_extension": ".py",
   "mimetype": "text/x-python",
   "name": "python",
   "nbconvert_exporter": "python",
   "pygments_lexer": "ipython3",
   "version": "3.9.7"
  },
  "orig_nbformat": 4
 },
 "nbformat": 4,
 "nbformat_minor": 2
}
