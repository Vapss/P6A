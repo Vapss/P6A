{
 "cells": [
  {
   "cell_type": "code",
   "execution_count": 5,
   "metadata": {},
   "outputs": [],
   "source": [
    "import pandas as pd\n",
    "import numpy as np\n",
    "import matplotlib.pyplot as plt"
   ]
  },
  {
   "cell_type": "code",
   "execution_count": 7,
   "metadata": {},
   "outputs": [],
   "source": [
    "df = pd.read_csv('breast-cancer.csv')"
   ]
  },
  {
   "cell_type": "code",
   "execution_count": 9,
   "metadata": {},
   "outputs": [
    {
     "name": "stdout",
     "output_type": "stream",
     "text": [
      "         id diagnosis  radius_mean  texture_mean  perimeter_mean  area_mean  \\\n",
      "0    842302         M        17.99         10.38          122.80     1001.0   \n",
      "1    842517         M        20.57         17.77          132.90     1326.0   \n",
      "2  84300903         M        19.69         21.25          130.00     1203.0   \n",
      "3  84348301         M        11.42         20.38           77.58      386.1   \n",
      "4  84358402         M        20.29         14.34          135.10     1297.0   \n",
      "\n",
      "   smoothness_mean  compactness_mean  concavity_mean  concave points_mean  \\\n",
      "0          0.11840           0.27760          0.3001              0.14710   \n",
      "1          0.08474           0.07864          0.0869              0.07017   \n",
      "2          0.10960           0.15990          0.1974              0.12790   \n",
      "3          0.14250           0.28390          0.2414              0.10520   \n",
      "4          0.10030           0.13280          0.1980              0.10430   \n",
      "\n",
      "   ...  radius_worst  texture_worst  perimeter_worst  area_worst  \\\n",
      "0  ...         25.38          17.33           184.60      2019.0   \n",
      "1  ...         24.99          23.41           158.80      1956.0   \n",
      "2  ...         23.57          25.53           152.50      1709.0   \n",
      "3  ...         14.91          26.50            98.87       567.7   \n",
      "4  ...         22.54          16.67           152.20      1575.0   \n",
      "\n",
      "   smoothness_worst  compactness_worst  concavity_worst  concave points_worst  \\\n",
      "0            0.1622             0.6656           0.7119                0.2654   \n",
      "1            0.1238             0.1866           0.2416                0.1860   \n",
      "2            0.1444             0.4245           0.4504                0.2430   \n",
      "3            0.2098             0.8663           0.6869                0.2575   \n",
      "4            0.1374             0.2050           0.4000                0.1625   \n",
      "\n",
      "   symmetry_worst  fractal_dimension_worst  \n",
      "0          0.4601                  0.11890  \n",
      "1          0.2750                  0.08902  \n",
      "2          0.3613                  0.08758  \n",
      "3          0.6638                  0.17300  \n",
      "4          0.2364                  0.07678  \n",
      "\n",
      "[5 rows x 32 columns]\n"
     ]
    }
   ],
   "source": [
    "print(df.head())"
   ]
  },
  {
   "cell_type": "code",
   "execution_count": 11,
   "metadata": {},
   "outputs": [
    {
     "name": "stdout",
     "output_type": "stream",
     "text": [
      "<class 'pandas.core.frame.DataFrame'>\n",
      "RangeIndex: 569 entries, 0 to 568\n",
      "Data columns (total 32 columns):\n",
      " #   Column                   Non-Null Count  Dtype  \n",
      "---  ------                   --------------  -----  \n",
      " 0   id                       569 non-null    int64  \n",
      " 1   diagnosis                569 non-null    object \n",
      " 2   radius_mean              569 non-null    float64\n",
      " 3   texture_mean             569 non-null    float64\n",
      " 4   perimeter_mean           569 non-null    float64\n",
      " 5   area_mean                569 non-null    float64\n",
      " 6   smoothness_mean          569 non-null    float64\n",
      " 7   compactness_mean         569 non-null    float64\n",
      " 8   concavity_mean           569 non-null    float64\n",
      " 9   concave points_mean      569 non-null    float64\n",
      " 10  symmetry_mean            569 non-null    float64\n",
      " 11  fractal_dimension_mean   569 non-null    float64\n",
      " 12  radius_se                569 non-null    float64\n",
      " 13  texture_se               569 non-null    float64\n",
      " 14  perimeter_se             569 non-null    float64\n",
      " 15  area_se                  569 non-null    float64\n",
      " 16  smoothness_se            569 non-null    float64\n",
      " 17  compactness_se           569 non-null    float64\n",
      " 18  concavity_se             569 non-null    float64\n",
      " 19  concave points_se        569 non-null    float64\n",
      " 20  symmetry_se              569 non-null    float64\n",
      " 21  fractal_dimension_se     569 non-null    float64\n",
      " 22  radius_worst             569 non-null    float64\n",
      " 23  texture_worst            569 non-null    float64\n",
      " 24  perimeter_worst          569 non-null    float64\n",
      " 25  area_worst               569 non-null    float64\n",
      " 26  smoothness_worst         569 non-null    float64\n",
      " 27  compactness_worst        569 non-null    float64\n",
      " 28  concavity_worst          569 non-null    float64\n",
      " 29  concave points_worst     569 non-null    float64\n",
      " 30  symmetry_worst           569 non-null    float64\n",
      " 31  fractal_dimension_worst  569 non-null    float64\n",
      "dtypes: float64(30), int64(1), object(1)\n",
      "memory usage: 142.4+ KB\n"
     ]
    }
   ],
   "source": [
    "df.info()"
   ]
  },
  {
   "cell_type": "code",
   "execution_count": 15,
   "metadata": {},
   "outputs": [],
   "source": [
    "df.drop(['id'], axis = 1)\n",
    "df.diagnosis = [1 if each == \"M\" else 0 for each in df.diagnosis]"
   ]
  },
  {
   "cell_type": "code",
   "execution_count": 17,
   "metadata": {},
   "outputs": [],
   "source": [
    "y = df.diagnosis.values\n",
    "x_data = df.drop(['diagnosis'], axis = 1)\n"
   ]
  },
  {
   "cell_type": "code",
   "execution_count": 18,
   "metadata": {},
   "outputs": [
    {
     "name": "stderr",
     "output_type": "stream",
     "text": [
      "/Users/vaps/opt/anaconda3/envs/ia/lib/python3.9/site-packages/numpy/core/fromnumeric.py:84: FutureWarning: In a future version, DataFrame.min(axis=None) will return a scalar min over the entire DataFrame. To retain the old behavior, use 'frame.min(axis=0)' or just 'frame.min()'\n",
      "  return reduction(axis=axis, out=out, **passkwargs)\n",
      "/Users/vaps/opt/anaconda3/envs/ia/lib/python3.9/site-packages/numpy/core/fromnumeric.py:84: FutureWarning: In a future version, DataFrame.max(axis=None) will return a scalar max over the entire DataFrame. To retain the old behavior, use 'frame.max(axis=0)' or just 'frame.max()'\n",
      "  return reduction(axis=axis, out=out, **passkwargs)\n"
     ]
    }
   ],
   "source": [
    "x = (x_data - np.min(x_data))/(np.max(x_data) - np.min(x_data)).values"
   ]
  },
  {
   "cell_type": "code",
   "execution_count": 19,
   "metadata": {},
   "outputs": [
    {
     "name": "stdout",
     "output_type": "stream",
     "text": [
      "x train:  (31, 512)\n",
      "x test:  (31, 57)\n",
      "y train:  (512,)\n",
      "y test:  (57,)\n"
     ]
    }
   ],
   "source": [
    "from sklearn.model_selection import train_test_split\n",
    "x_train, x_test, y_train, y_test = train_test_split(\n",
    "\tx, y, test_size = 0.1, random_state = 42)\n",
    "\n",
    "x_train = x_train.T\n",
    "x_test = x_test.T\n",
    "y_train = y_train.T\n",
    "y_test = y_test.T\n",
    "\n",
    "print(\"x train: \", x_train.shape)\n",
    "print(\"x test: \", x_test.shape)\n",
    "print(\"y train: \", y_train.shape)\n",
    "print(\"y test: \", y_test.shape)\n"
   ]
  },
  {
   "cell_type": "code",
   "execution_count": 20,
   "metadata": {},
   "outputs": [],
   "source": [
    "def initialize_weights_and_bias(dimension):\n",
    "\tw = np.full((dimension, 1), 0.01)\n",
    "\tb = 0.0\n",
    "\treturn w, b"
   ]
  },
  {
   "cell_type": "code",
   "execution_count": 21,
   "metadata": {},
   "outputs": [],
   "source": [
    "# z = np.dot(w.T, x_train)+b\n",
    "def sigmoid(z):\n",
    "\ty_head = 1/(1 + np.exp(-z))\n",
    "\treturn y_head\n"
   ]
  },
  {
   "cell_type": "code",
   "execution_count": 22,
   "metadata": {},
   "outputs": [],
   "source": [
    "def forward_backward_propagation(w, b, x_train, y_train):\n",
    "\tz = np.dot(w.T, x_train) + b\n",
    "\ty_head = sigmoid(z)\n",
    "\tloss = - y_train * np.log(y_head) - (1 - y_train) * np.log(1 - y_head)\n",
    "\t# x_train.shape[1] is for scaling\n",
    "\tcost = (np.sum(loss)) / x_train.shape[1]\t\n",
    "\n",
    "\t# backward propagation\n",
    "\tderivative_weight = (np.dot(x_train, (\n",
    "\t\t(y_head - y_train).T))) / x_train.shape[1]\n",
    "\tderivative_bias = np.sum(\n",
    "\t\ty_head-y_train) / x_train.shape[1]\t\t\t\t\n",
    "\tgradients = {\"derivative_weight\": derivative_weight,\n",
    "\t\t\t\t\"derivative_bias\": derivative_bias}\n",
    "\treturn cost, gradients\n"
   ]
  },
  {
   "cell_type": "code",
   "execution_count": 23,
   "metadata": {},
   "outputs": [],
   "source": [
    "def update(w, b, x_train, y_train, learning_rate, number_of_iterarion):\n",
    "\tcost_list = []\n",
    "\tcost_list2 = []\n",
    "\tindex = []\n",
    "\n",
    "\t# updating(learning) parameters is number_of_iterarion times\n",
    "\tfor i in range(number_of_iterarion):\n",
    "\t\t# make forward and backward propagation and find cost and gradients\n",
    "\t\tcost, gradients = forward_backward_propagation(w, b, x_train, y_train)\n",
    "\t\tcost_list.append(cost)\n",
    "\n",
    "\t\t# lets update\n",
    "\t\tw = w - learning_rate * gradients[\"derivative_weight\"]\n",
    "\t\tb = b - learning_rate * gradients[\"derivative_bias\"]\n",
    "\t\tif i % 10 == 0:\n",
    "\t\t\tcost_list2.append(cost)\n",
    "\t\t\tindex.append(i)\n",
    "\t\t\tprint (\"Cost after iteration % i: % f\" %(i, cost))\n",
    "\n",
    "\t# update(learn) parameters weights and bias\n",
    "\tparameters = {\"weight\": w, \"bias\": b}\n",
    "\tplt.plot(index, cost_list2)\n",
    "\tplt.xticks(index, rotation ='vertical')\n",
    "\tplt.xlabel(\"Number of Iterarion\")\n",
    "\tplt.ylabel(\"Cost\")\n",
    "\tplt.show()\n",
    "\treturn parameters, gradients, cost_list\n"
   ]
  },
  {
   "cell_type": "code",
   "execution_count": 24,
   "metadata": {},
   "outputs": [],
   "source": [
    "def predict(w, b, x_test):\n",
    "\t# x_test is a input for forward propagation\n",
    "\tz = sigmoid(np.dot(w.T, x_test)+b)\n",
    "\tY_prediction = np.zeros((1, x_test.shape[1]))\n",
    "\n",
    "\t# if z is bigger than 0.5, our prediction is sign one (y_head = 1),\n",
    "\t# if z is smaller than 0.5, our prediction is sign zero (y_head = 0),\n",
    "\tfor i in range(z.shape[1]):\n",
    "\t\tif z[0, i]<= 0.5:\n",
    "\t\t\tY_prediction[0, i] = 0\n",
    "\t\telse:\n",
    "\t\t\tY_prediction[0, i] = 1\n",
    "\n",
    "\treturn Y_prediction\n"
   ]
  },
  {
   "cell_type": "code",
   "execution_count": 25,
   "metadata": {},
   "outputs": [
    {
     "name": "stdout",
     "output_type": "stream",
     "text": [
      "Cost after iteration  0:  0.692107\n",
      "Cost after iteration  10:  0.498712\n",
      "Cost after iteration  20:  0.405300\n",
      "Cost after iteration  30:  0.350568\n",
      "Cost after iteration  40:  0.314393\n",
      "Cost after iteration  50:  0.288491\n",
      "Cost after iteration  60:  0.268875\n",
      "Cost after iteration  70:  0.253397\n",
      "Cost after iteration  80:  0.240795\n",
      "Cost after iteration  90:  0.230280\n"
     ]
    },
    {
     "data": {
      "image/png": "[encoded data removed]",
      "text/plain": [
       "<Figure size 432x288 with 1 Axes>"
      ]
     },
     "metadata": {
      "needs_background": "light"
     },
     "output_type": "display_data"
    },
    {
     "name": "stdout",
     "output_type": "stream",
     "text": [
      "train accuracy: 94.7265625 %\n",
      "test accuracy: 94.73684210526316 %\n"
     ]
    }
   ],
   "source": [
    "def logistic_regression(x_train, y_train, x_test, y_test,\n",
    "\t\t\t\t\t\tlearning_rate, num_iterations):\n",
    "\n",
    "\tdimension = x_train.shape[0]\n",
    "\tw, b = initialize_weights_and_bias(dimension)\n",
    "\t\n",
    "\tparameters, gradients, cost_list = update(\n",
    "\t\tw, b, x_train, y_train, learning_rate, num_iterations)\n",
    "\t\n",
    "\ty_prediction_test = predict(\n",
    "\t\tparameters[\"weight\"], parameters[\"bias\"], x_test)\n",
    "\ty_prediction_train = predict(\n",
    "\t\tparameters[\"weight\"], parameters[\"bias\"], x_train)\n",
    "\n",
    "\t# train / test Errors\n",
    "\tprint(\"train accuracy: {} %\".format(\n",
    "\t\t100 - np.mean(np.abs(y_prediction_train - y_train)) * 100))\n",
    "\tprint(\"test accuracy: {} %\".format(\n",
    "\t\t100 - np.mean(np.abs(y_prediction_test - y_test)) * 100))\n",
    "\t\n",
    "logistic_regression(x_train, y_train, x_test,\n",
    "\t\t\t\t\ty_test, learning_rate = 1, num_iterations = 100)\n"
   ]
  },
  {
   "cell_type": "code",
   "execution_count": 26,
   "metadata": {},
   "outputs": [
    {
     "name": "stdout",
     "output_type": "stream",
     "text": [
      "test accuracy: 0.9824561403508771 \n",
      "train accuracy: 0.970703125 \n"
     ]
    }
   ],
   "source": [
    "from sklearn import linear_model\n",
    "logreg = linear_model.LogisticRegression(random_state = 42, max_iter = 150)\n",
    "print(\"test accuracy: {} \".format(\n",
    "\tlogreg.fit(x_train.T, y_train.T).score(x_test.T, y_test.T)))\n",
    "print(\"train accuracy: {} \".format(\n",
    "\tlogreg.fit(x_train.T, y_train.T).score(x_train.T, y_train.T)))\n"
   ]
  },
  {
   "cell_type": "code",
   "execution_count": 1,
   "metadata": {},
   "outputs": [
    {
     "name": "stdout",
     "output_type": "stream",
     "text": [
      "['8', '00']\n",
      "8\n",
      "00\n"
     ]
    }
   ],
   "source": [
    "import re\n",
    "cad = \"Hoy es un dia de lluvia de las 8:00 am\"\n",
    "\n",
    "print(re.findall(r'\\d+', cad))\n",
    "print(re.findall(r'\\d+', cad)[0])\n",
    "print(re.findall(r'\\d+', cad)[1])"
   ]
  },
  {
   "cell_type": "code",
   "execution_count": null,
   "metadata": {},
   "outputs": [],
   "source": []
  }
 ],
 "metadata": {
  "interpreter": {
   "hash": "861ef7cbc406842ccad27a4ba56088f3a0030ab4040b5ab15e4e315d9ef3288f"
  },
  "kernelspec": {
   "display_name": "Python 3.9.7 ('ia')",
   "language": "python",
   "name": "python3"
  },
  "language_info": {
   "codemirror_mode": {
    "name": "ipython",
    "version": 3
   },
   "file_extension": ".py",
   "mimetype": "text/x-python",
   "name": "python",
   "nbconvert_exporter": "python",
   "pygments_lexer": "ipython3",
   "version": "3.9.7"
  },
  "orig_nbformat": 4
 },
 "nbformat": 4,
 "nbformat_minor": 2
}
